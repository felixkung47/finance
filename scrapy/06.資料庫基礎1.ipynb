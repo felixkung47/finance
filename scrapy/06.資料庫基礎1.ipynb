{
 "cells": [
  {
   "cell_type": "markdown",
   "metadata": {},
   "source": [
    "# 資料庫基礎教學 1\n",
    "\n",
    "SQLite 下載連結：https://www.sqlite.org/download.html<br>\n",
    "DB Browser for SQLite 下載連結：https://sqlitebrowser.org/dl/"
   ]
  },
  {
   "cell_type": "markdown",
   "metadata": {},
   "source": [
    "<a href=\"https://i.imgur.com/MYCVLpa.png\"><img src=\"https://i.imgur.com/MYCVLpa.png\" width=\"400\" height=\"800\"></a>\n",
    "\n",
    "<a href=\"https://imgur.com/PVCSDxx.png\"><img src=\"https://imgur.com/PVCSDxx.png\" width=\"400\" height=\"800\"></a>"
   ]
  },
  {
   "cell_type": "markdown",
   "metadata": {},
   "source": [
    "### 認識SQLite資料庫\n",
    "### DB Browser for SQLite 管理工具\n",
    "### SQL語法\n",
    "* 建立\n",
    "* 新增\n",
    "* 修改\n",
    "* 刪除\n",
    "* 查詢"
   ]
  },
  {
   "cell_type": "code",
   "execution_count": 4,
   "metadata": {},
   "outputs": [
    {
     "data": {
      "text/plain": [
       "<sqlite3.Cursor at 0x156cc242420>"
      ]
     },
     "execution_count": 4,
     "metadata": {},
     "output_type": "execute_result"
    }
   ],
   "source": [
    "import sqlite3\n",
    "\n",
    "connection = sqlite3.connect('股票清單.db')\n",
    "\n",
    "cursor = connection.cursor()\n",
    "\n",
    "command = '''CREATE TABLE IF NOT EXISTS\n",
    "stock(id TEXT PRIMARY KEY, name TEXT, date TEXT)\n",
    "'''\n",
    "\n",
    "cursor.execute(command)"
   ]
  },
  {
   "cell_type": "code",
   "execution_count": 5,
   "metadata": {},
   "outputs": [],
   "source": [
    "cursor.execute('INSERT INTO stock VALUES (\"1101\", \"台泥\", \"1962/02/09\")')\n",
    "cursor.execute('INSERT INTO stock VALUES (\"1102\", \"亞泥\", \"1962/06/08\")')\n",
    "cursor.execute('INSERT INTO stock VALUES (\"1103\", \"嘉泥\", \"1969/11/14\")')\n",
    "\n",
    "connection.commit()"
   ]
  },
  {
   "cell_type": "code",
   "execution_count": 6,
   "metadata": {},
   "outputs": [],
   "source": [
    "cursor.execute('UPDATE stock SET date = \"1969/11/15\" WHERE id = \"1103\"')\n",
    "connection.commit()"
   ]
  },
  {
   "cell_type": "code",
   "execution_count": 7,
   "metadata": {},
   "outputs": [],
   "source": [
    "cursor.execute('DELETE FROM stock WHERE id = \"1103\"')\n",
    "connection.commit()"
   ]
  },
  {
   "cell_type": "code",
   "execution_count": 8,
   "metadata": {},
   "outputs": [
    {
     "name": "stdout",
     "output_type": "stream",
     "text": [
      "證券代號：1101 名稱：台泥 上市日：1962/02/09\n",
      "證券代號：1102 名稱：亞泥 上市日：1962/06/08\n"
     ]
    }
   ],
   "source": [
    "cursor.execute('SELECT * FROM stock') # *號表示要取出所有的欄位, id, name, date\n",
    "\n",
    "stocks = cursor.fetchall() # fetchall()表示執行取出所有資料\n",
    "\n",
    "for stock in stocks:\n",
    "    print('證券代號：{} 名稱：{} 上市日：{}'.format(stock[0], stock[1], stock[2]))"
   ]
  },
  {
   "cell_type": "code",
   "execution_count": 9,
   "metadata": {},
   "outputs": [
    {
     "name": "stdout",
     "output_type": "stream",
     "text": [
      "證券代號：1102 名稱：亞泥 上市日：1962/06/08\n"
     ]
    }
   ],
   "source": [
    "cursor.execute(\"SELECT * FROM stock WHERE id = 1102\") #用where過濾，只取得1102資料\n",
    "\n",
    "stock = cursor.fetchone() #fetchone表示只取得1筆\n",
    "\n",
    "print('證券代號：{} 名稱：{} 上市日：{}'.format(stock[0], stock[1], stock[2]))"
   ]
  },
  {
   "cell_type": "code",
   "execution_count": 10,
   "metadata": {},
   "outputs": [],
   "source": [
    "connection.close() #結束使用資料庫連線"
   ]
  },
  {
   "cell_type": "code",
   "execution_count": null,
   "metadata": {},
   "outputs": [],
   "source": []
  }
 ],
 "metadata": {
  "kernelspec": {
   "display_name": "Python 3",
   "language": "python",
   "name": "python3"
  },
  "language_info": {
   "codemirror_mode": {
    "name": "ipython",
    "version": 3
   },
   "file_extension": ".py",
   "mimetype": "text/x-python",
   "name": "python",
   "nbconvert_exporter": "python",
   "pygments_lexer": "ipython3",
   "version": "3.6.8"
  }
 },
 "nbformat": 4,
 "nbformat_minor": 2
}
